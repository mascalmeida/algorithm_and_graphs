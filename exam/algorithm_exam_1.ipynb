{
  "nbformat": 4,
  "nbformat_minor": 0,
  "metadata": {
    "colab": {
      "provenance": [],
      "authorship_tag": "ABX9TyPOkBJs51NpxMHr1RLIgll4",
      "include_colab_link": true
    },
    "kernelspec": {
      "name": "python3",
      "display_name": "Python 3"
    },
    "language_info": {
      "name": "python"
    }
  },
  "cells": [
    {
      "cell_type": "markdown",
      "metadata": {
        "id": "view-in-github",
        "colab_type": "text"
      },
      "source": [
        "<a href=\"https://colab.research.google.com/github/mascalmeida/algorithm_and_graphs/blob/main/exam/algorithm_exam_1.ipynb\" target=\"_parent\"><img src=\"https://colab.research.google.com/assets/colab-badge.svg\" alt=\"Open In Colab\"/></a>"
      ]
    },
    {
      "cell_type": "markdown",
      "source": [
        "Especificação: 21/04/2024 – Entrega: 15/05/2024.\n",
        "\n",
        "Resolva os problemas descritos como exercı́cios nas notas de aula sobre divisão e conquista. Para cada um deles, proponha duas soluções, uma usando divisão e conquista enquanto a outra sem fazer uso desta técnica. Você deve comparar ambas as soluções experimentalmente, para cada um dos problemas. Para tanto, várias instâncias devem ser geradas, com crescentes tamanhos de entrada. O esforço computacional medido para encontrar as soluções devem então ser comparadas com os respectivas complexidades computacionais dadas pelas expressões assintóticas associadas.\n",
        "\n",
        "Por exemplo, suponha que um problema P a ser resolvido tem instâncias de tamanho n, com n representando o número de elementos contidos numa sequência de entrada. Para a avaliação experimental, diversas sequências de entrada devem ser geradas para cada valor de n considerado. Se A e B são dois algoritmos que resolvem P , o segundo baseado em divisão e conquista, com complexidades O(n^2) e O(n log n), respectivamente, eles seriam avaliados experimentalmente contabilizando o esforço médio que fazem para resolver P para as diversas instâncias de tamanho n a fim de: (a) saber se o esforço médio está próximo das respectivas complexidades (no pior caso); e (b) mensurar o ganho obtido com a versão baseada em divisão e conquista.\n",
        "\n",
        "O trabalho a ser entregue deverá ser em forma de relatório contendo:\n",
        "\n",
        "*   A descrição das soluções desenvolvidas, com a derivação das respectivas complexidades computacionais no pior caso.\n",
        "*   A descrição dos experimentos elaborados para cada problema.\n",
        "*   Apresentação dos resultados encontrados, contendo discussões sobre as principais observações e conclusões.\n",
        "*   Referências bibliográficas consultadas.\n",
        "\n",
        "O trabalho pode ser feito em dupla. Para qualquer indı́cio de plágio entre diferentes trabalhos, serão atribuı́das nota zero a todos os envolvidos.\n",
        "\n",
        "[ic0004-trabalho.pdf](https://ava.ufba.br/pluginfile.php/4762810/mod_assign/introattachment/0/ic0004-trabalho.pdf?forcedownload=1)\n",
        "\n",
        "[03-div-conquista.pdf](https://drive.google.com/file/d/13cuM-VZBbaDOcjzC8iGREhPGZsUWpch2/view)"
      ],
      "metadata": {
        "id": "8UxJtOKIGOWa"
      }
    },
    {
      "cell_type": "code",
      "source": [],
      "metadata": {
        "id": "NN0lCytsGZij"
      },
      "execution_count": null,
      "outputs": []
    }
  ]
}